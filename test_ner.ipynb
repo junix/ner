{
 "cells": [
  {
   "cell_type": "code",
   "execution_count": 1,
   "metadata": {},
   "outputs": [
    {
     "name": "stderr",
     "output_type": "stream",
     "text": [
      "Building prefix dict from the default dictionary ...\n"
     ]
    },
    {
     "name": "stdout",
     "output_type": "stream",
     "text": [
      "2018-04-27 08:14:05 __init__.py[line:111] DEBUG Building prefix dict from the default dictionary ...\n"
     ]
    },
    {
     "name": "stderr",
     "output_type": "stream",
     "text": [
      "Loading model from cache /tmp/jieba.cache\n"
     ]
    },
    {
     "name": "stdout",
     "output_type": "stream",
     "text": [
      "2018-04-27 08:14:05 __init__.py[line:131] DEBUG Loading model from cache /tmp/jieba.cache\n"
     ]
    },
    {
     "name": "stderr",
     "output_type": "stream",
     "text": [
      "Loading model cost 0.681 seconds.\n"
     ]
    },
    {
     "name": "stdout",
     "output_type": "stream",
     "text": [
      "2018-04-27 08:14:06 __init__.py[line:163] DEBUG Loading model cost 0.681 seconds.\n"
     ]
    },
    {
     "name": "stderr",
     "output_type": "stream",
     "text": [
      "Prefix dict has been built succesfully.\n"
     ]
    },
    {
     "name": "stdout",
     "output_type": "stream",
     "text": [
      "2018-04-27 08:14:06 __init__.py[line:164] DEBUG Prefix dict has been built succesfully.\n"
     ]
    }
   ],
   "source": [
    "from entity_detect.ner import load_predict"
   ]
  },
  {
   "cell_type": "code",
   "execution_count": 2,
   "metadata": {
    "collapsed": true
   },
   "outputs": [],
   "source": [
    "pred = load_predict(output_keyword=True)"
   ]
  },
  {
   "cell_type": "code",
   "execution_count": 3,
   "metadata": {
    "collapsed": true
   },
   "outputs": [],
   "source": [
    "sentences = (\n",
    "    \"南京这里有没有大数据的知识\",\n",
    "    \"哈哈关于苏州云学堂的课程\",\n",
    "    \"关于苏州云学堂的课程\",\n",
    "    \"你好，查一下90后管理\",\n",
    "    \"有没有大数据的知识\",\n",
    "    \"请问，有多少管理类的课程\",\n",
    "    \"你们有多少管理类的课程\",\n",
    "    \"家政相关的课程\",\n",
    "    \"替我查询北京地铁\",\n",
    "    \"麻烦找一下关于iOS使用的教程\",\n",
    "    \"Hi，有没有电工的材料\",\n",
    "    \"老卢的讲座\",\n",
    "    \"你们有没有音响调试的课程\",\n",
    "    \"找90后管理\",\n",
    "    \"90后管理\",\n",
    "    \"英语面试\",\n",
    "    \"餐饮方面\",\n",
    "    \"计算机二级考试\",\n",
    "    \"北京喔，搜索计算机二级考试\",\n",
    "    \"中国 ，搜索计算机二级考试\",\n",
    "    \"你们这里有没有烹饪相关的课程\",\n",
    "    \"你好，我想看90后课程\",\n",
    "    \"你好，我想看红海行动电影\",\n",
    "    \"看红海行动\",\n",
    "    \"听老卢的演讲\",\n",
    "    \"老卢的讲话\",\n",
    "    \"我想听老卢的讲话\",\n",
    "    \"我想看战狼\",\n",
    "    \"看领导力课程\",\n",
    "    \"小鹏汽车\",\n",
    "    \"我想问一下,有没有大数据的知识\",\n",
    "    \"我想问一下南京\",\n",
    "    \"有没有关于电影的课程\",\n",
    "    \"你好，我想看电影红海行动\",\n",
    ")"
   ]
  },
  {
   "cell_type": "code",
   "execution_count": 4,
   "metadata": {},
   "outputs": [
    {
     "name": "stdout",
     "output_type": "stream",
     "text": [
      "南京这里有没有大数据的知识 -> ('知识', '大数据')\n",
      "哈哈关于苏州云学堂的课程 -> ('课程', '苏州云学堂')\n",
      "关于苏州云学堂的课程 -> ('课程', '苏州云学堂')\n",
      "你好，查一下90后管理 -> ('', '90后管理')\n",
      "有没有大数据的知识 -> ('知识', '大数据')\n",
      "请问，有多少管理类的课程 -> ('课程', '管理')\n",
      "你们有多少管理类的课程 -> ('课程', '管理')\n",
      "家政相关的课程 -> ('课程', '家政相关的课程')\n",
      "替我查询北京地铁 -> ('', '北京地铁')\n",
      "麻烦找一下关于iOS使用的教程 -> ('', 'IOS使用 教程')\n",
      "Hi，有没有电工的材料 -> ('材料', '电工')\n",
      "老卢的讲座 -> ('讲座', '老卢的讲座')\n",
      "你们有没有音响调试的课程 -> ('课程', '音响调试')\n",
      "找90后管理 -> ('', '90后管理')\n",
      "90后管理 -> ('', '90后管理')\n",
      "英语面试 -> ('', '英语面试')\n",
      "餐饮方面 -> ('', '餐饮方面')\n",
      "计算机二级考试 -> ('', '考试')\n",
      "北京喔，搜索计算机二级考试 -> ('', '计算机二级考试')\n",
      "中国 ，搜索计算机二级考试 -> ('', '计算机二级考试')\n",
      "你们这里有没有烹饪相关的课程 -> ('课程', '烹饪')\n",
      "你好，我想看90后课程 -> ('课程', '90后')\n",
      "你好，我想看红海行动电影 -> ('电影', '红海行动')\n",
      "看红海行动 -> ('', '红海行动')\n",
      "听老卢的演讲 -> ('演讲', '老卢')\n",
      "老卢的讲话 -> ('讲话', '老卢的讲话')\n",
      "我想听老卢的讲话 -> ('讲话', '老卢')\n",
      "我想看战狼 -> ('', '战狼')\n",
      "看领导力课程 -> ('课程', '领导力')\n",
      "小鹏汽车 -> ('', '小鹏汽车')\n",
      "我想问一下,有没有大数据的知识 -> ('知识', '大数据')\n",
      "我想问一下南京 -> ('', '南京')\n",
      "有没有关于电影的课程 -> ('课程', '关于电影')\n",
      "你好，我想看电影红海行动 -> ('', '红海行动')\n"
     ]
    }
   ],
   "source": [
    "for sentence in sentences:\n",
    "    print(sentence, '->', pred(sentence))"
   ]
  },
  {
   "cell_type": "code",
   "execution_count": 5,
   "metadata": {
    "collapsed": true
   },
   "outputs": [],
   "source": [
    "from jieba import cut"
   ]
  },
  {
   "cell_type": "code",
   "execution_count": 6,
   "metadata": {},
   "outputs": [
    {
     "name": "stdout",
     "output_type": "stream",
     "text": [
      "CPU times: user 8.31 ms, sys: 1.91 ms, total: 10.2 ms\n",
      "Wall time: 12.5 ms\n"
     ]
    },
    {
     "data": {
      "text/plain": [
       "('知识', '大数据')"
      ]
     },
     "execution_count": 6,
     "metadata": {},
     "output_type": "execute_result"
    }
   ],
   "source": [
    "%time pred(\"不好意思, 我想问一下,我想问一下,请问,对对， 有没有大数据的知识\")"
   ]
  }
 ],
 "metadata": {
  "kernelspec": {
   "display_name": "Python 3",
   "language": "python",
   "name": "python3"
  },
  "language_info": {
   "codemirror_mode": {
    "name": "ipython",
    "version": 3
   },
   "file_extension": ".py",
   "mimetype": "text/x-python",
   "name": "python",
   "nbconvert_exporter": "python",
   "pygments_lexer": "ipython3",
   "version": "3.6.3"
  },
  "toc": {
   "nav_menu": {},
   "number_sections": true,
   "sideBar": true,
   "skip_h1_title": false,
   "toc_cell": false,
   "toc_position": {},
   "toc_section_display": "block",
   "toc_window_display": false
  }
 },
 "nbformat": 4,
 "nbformat_minor": 2
}
