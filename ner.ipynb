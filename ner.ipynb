{
 "cells": [
  {
   "cell_type": "code",
   "execution_count": 1,
   "metadata": {
    "collapsed": true
   },
   "outputs": [],
   "source": [
    "from entity_detect.lstm_classifier import load_predict"
   ]
  },
  {
   "cell_type": "code",
   "execution_count": 2,
   "metadata": {
    "collapsed": true
   },
   "outputs": [],
   "source": [
    "pred = load_predict(output_keyword=True)"
   ]
  },
  {
   "cell_type": "code",
   "execution_count": 5,
   "metadata": {},
   "outputs": [],
   "source": [
    "sentences = (\n",
    "    \"关于苏州云学堂的课程\",\n",
    "    \"你好，查一下90后管理\",\n",
    "    \"有没有大数据的知识\",\n",
    "    \"请问，有多少管理类的课程\",\n",
    "    \"你们有多少管理类的课程\",\n",
    "    \"家政相关的课程\",\n",
    "    \"替我查询北京地铁\",\n",
    "    \"麻烦找一下关于iOS使用的教程\",\n",
    "    \"Hi，有没有电工的材料\",\n",
    "    \"老卢的讲座\",\n",
    "    \"你们云学堂有没有音响调试的课程\",\n",
    "    \"找90后管理\",\n",
    "    \"90后管理\",\n",
    "    \"英语面试\",\n",
    "    \"餐饮方面\",\n",
    ")"
   ]
  },
  {
   "cell_type": "code",
   "execution_count": 6,
   "metadata": {},
   "outputs": [
    {
     "name": "stdout",
     "output_type": "stream",
     "text": [
      "关于苏州云学堂的课程 -> 苏州云\n",
      "你好，查一下90后管理 -> 90后管理\n",
      "有没有大数据的知识 -> 大数据\n",
      "请问，有多少管理类的课程 -> 管理类\n",
      "你们有多少管理类的课程 -> 管理类\n",
      "家政相关的课程 -> 家政\n",
      "替我查询北京地铁 -> 北京地铁\n",
      "麻烦找一下关于iOS使用的教程 -> iOS使用\n",
      "Hi，有没有电工的材料 -> 电工\n",
      "老卢的讲座 -> 老卢\n",
      "你们云学堂有没有音响调试的课程 -> 音响调试\n",
      "找90后管理 -> 90后管理\n",
      "90后管理 -> 后管理\n",
      "英语面试 -> 英语面试\n",
      "餐饮方面 -> 餐饮\n"
     ]
    }
   ],
   "source": [
    "for sentence in sentences:\n",
    "    print(sentence, '->', pred(sentence))"
   ]
  },
  {
   "cell_type": "code",
   "execution_count": null,
   "metadata": {
    "collapsed": true
   },
   "outputs": [],
   "source": []
  }
 ],
 "metadata": {
  "kernelspec": {
   "display_name": "Python 3",
   "language": "python",
   "name": "python3"
  },
  "language_info": {
   "codemirror_mode": {
    "name": "ipython",
    "version": 3
   },
   "file_extension": ".py",
   "mimetype": "text/x-python",
   "name": "python",
   "nbconvert_exporter": "python",
   "pygments_lexer": "ipython3",
   "version": "3.6.3"
  },
  "toc": {
   "nav_menu": {},
   "number_sections": true,
   "sideBar": true,
   "skip_h1_title": false,
   "toc_cell": false,
   "toc_position": {},
   "toc_section_display": "block",
   "toc_window_display": false
  }
 },
 "nbformat": 4,
 "nbformat_minor": 2
}
