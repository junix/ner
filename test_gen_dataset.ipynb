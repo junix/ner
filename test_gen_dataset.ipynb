{
 "cells": [
  {
   "cell_type": "code",
   "execution_count": 1,
   "metadata": {},
   "outputs": [],
   "source": [
    "from dataset.gen_dataset import *\n",
    "from itertools import islice\n",
    "from jieba import cut"
   ]
  },
  {
   "cell_type": "code",
   "execution_count": 7,
   "metadata": {},
   "outputs": [
    {
     "name": "stdout",
     "output_type": "stream",
     "text": [
      "狄国庆马甲镇你们这里讲述监所检察部门刚柔相济说一声相关的课程    ->    ('课程', '监所检察部门刚柔相济说一声')\n",
      "尧禾镇讲述本质上相关的课程    ->    ('课程', '本质上')\n",
      "有没有桥梁厂相关的课程    ->    ('课程', '桥梁厂')\n",
      "顺溜黑紫黑红钳筠管相关的课程    ->    ('课程', '顺溜黑紫黑红钳筠管')\n",
      "我说!搜索宏山相关的课程    ->    ('课程', '宏山')\n",
      "讲述首饰嘉利友纸业馈给相关的课程好吗    ->    ('课程', '首饰嘉利友纸业馈给')\n",
      "长城镇国父思想相关的课程可否    ->    ('课程', '长城镇国父思想')\n",
      "讲述关于畿内木桑道延后相关的课程行不    ->    ('课程', '畿内木桑道延后')\n",
      "你好.询找介绍坐像相关的课程    ->    ('课程', '坐像')\n",
      "鸣海维罗多相关的课程    ->    ('课程', '鸣海维罗多')\n",
      "蕃客介绍珊德拉坐山吃空相关的课程    ->    ('课程', '珊德拉坐山吃空')\n",
      "获落白俄罗斯外交部有那些江安相关的课程好吗    ->    ('课程', '江安')\n",
      "查一查时尚之约酒店相关的课程    ->    ('课程', '时尚之约酒店')\n",
      "净收购人过愆临西相关的课程    ->    ('课程', '过愆临西')\n",
      "请?查查介绍笃挚镇南村相关的课程    ->    ('课程', '笃挚镇南村')\n",
      "车固营二相关的课程    ->    ('课程', '车固营二')\n",
      ",有那些讲述文件管理器新竹南门戚家军相关的课程    ->    ('课程', '文件管理器新竹南门戚家军')\n",
      "讲述关于武昭仪相关的课程    ->    ('课程', '武昭仪')\n"
     ]
    }
   ],
   "source": [
    "for s,t in islice(generate_dataset(),0,100000):\n",
    "    text = ''.join(s)\n",
    "    if '相关的课程' in text:\n",
    "        print(text, '   ->   ', keyword_of(s,t))"
   ]
  },
  {
   "cell_type": "code",
   "execution_count": null,
   "metadata": {},
   "outputs": [],
   "source": []
  },
  {
   "cell_type": "code",
   "execution_count": null,
   "metadata": {},
   "outputs": [],
   "source": []
  }
 ],
 "metadata": {
  "kernelspec": {
   "display_name": "Python 3",
   "language": "python",
   "name": "python3"
  },
  "language_info": {
   "codemirror_mode": {
    "name": "ipython",
    "version": 3
   },
   "file_extension": ".py",
   "mimetype": "text/x-python",
   "name": "python",
   "nbconvert_exporter": "python",
   "pygments_lexer": "ipython3",
   "version": "3.6.2"
  },
  "toc": {
   "nav_menu": {},
   "number_sections": true,
   "sideBar": true,
   "skip_h1_title": false,
   "title_cell": "Table of Contents",
   "title_sidebar": "Contents",
   "toc_cell": false,
   "toc_position": {},
   "toc_section_display": true,
   "toc_window_display": false
  }
 },
 "nbformat": 4,
 "nbformat_minor": 2
}
