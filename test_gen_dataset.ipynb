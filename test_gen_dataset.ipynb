{
 "cells": [
  {
   "cell_type": "code",
   "execution_count": 1,
   "metadata": {},
   "outputs": [
    {
     "name": "stderr",
     "output_type": "stream",
     "text": [
      "Building prefix dict from the default dictionary ...\n",
      "Loading model from cache /var/folders/5p/zkjx21td4gg2tg04bhrxf_x00000gn/T/jieba.cache\n",
      "Loading model cost 0.915 seconds.\n",
      "Prefix dict has been built succesfully.\n"
     ]
    }
   ],
   "source": [
    "from dataset.gen_dataset import *\n",
    "from itertools import islice\n",
    "from jieba import cut"
   ]
  },
  {
   "cell_type": "code",
   "execution_count": 2,
   "metadata": {},
   "outputs": [
    {
     "name": "stdout",
     "output_type": "stream",
     "text": [
      "关于幂等律凸状    ->    ('', '幂等律凸状')\n",
      "关于谈拢连续流行不    ->    ('', '谈拢连续流')\n",
      "关于清晖园富城超市定省凊温课程好不    ->    ('课程', '清晖园富城超市定省凊温')\n",
      "关于无意思怎么样    ->    ('', '无意思')\n",
      "关于滴滴金不受地域衣冠不整    ->    ('', '滴滴金不受地域衣冠不整')\n"
     ]
    }
   ],
   "source": [
    "for s,t in islice(generate_dataset(),0,1000):\n",
    "    text = ''.join(s)\n",
    "    if text.startswith('关于'):\n",
    "        print(text, '   ->   ', keyword_of(s,t))"
   ]
  },
  {
   "cell_type": "code",
   "execution_count": null,
   "metadata": {},
   "outputs": [],
   "source": []
  },
  {
   "cell_type": "code",
   "execution_count": null,
   "metadata": {},
   "outputs": [],
   "source": []
  }
 ],
 "metadata": {
  "kernelspec": {
   "display_name": "Python 3",
   "language": "python",
   "name": "python3"
  },
  "language_info": {
   "codemirror_mode": {
    "name": "ipython",
    "version": 3
   },
   "file_extension": ".py",
   "mimetype": "text/x-python",
   "name": "python",
   "nbconvert_exporter": "python",
   "pygments_lexer": "ipython3",
   "version": "3.6.2"
  },
  "toc": {
   "nav_menu": {},
   "number_sections": true,
   "sideBar": true,
   "skip_h1_title": false,
   "title_cell": "Table of Contents",
   "title_sidebar": "Contents",
   "toc_cell": false,
   "toc_position": {},
   "toc_section_display": true,
   "toc_window_display": false
  }
 },
 "nbformat": 4,
 "nbformat_minor": 2
}
