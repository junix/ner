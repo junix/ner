{
 "cells": [
  {
   "cell_type": "code",
   "execution_count": 1,
   "metadata": {},
   "outputs": [],
   "source": [
    "from dataset.gen_dataset import *\n",
    "from itertools import islice\n",
    "from jieba import cut"
   ]
  },
  {
   "cell_type": "code",
   "execution_count": 3,
   "metadata": {},
   "outputs": [
    {
     "name": "stdout",
     "output_type": "stream",
     "text": [
      "铁板烧搜寻一下烟雨任铅黛赛妮时尚旅馆的相关课程行吗    ->    ('课程', '烟雨任铅黛赛妮时尚旅馆')\n",
      "讲述关于寒悴埃默顿相关好不    ->    ('', '寒悴埃默顿')\n",
      "请关于常州车网相关的知识    ->    ('知识', '常州车网')\n",
      "请,关于凉拌辣味螺有好有坏相关资料可否    ->    ('资料', '凉拌辣味螺有好有坏')\n",
      "星际风网络叙述有关张坊镇巴尔韦德相关    ->    ('', '张坊镇巴尔韦德')\n",
      "想询找心理压力如蚁附膻艺宛相关的商品    ->    ('商品', '心理压力如蚁附膻艺宛')\n",
      "这里有宣宗嗣的相关教程行吗    ->    ('教程', '宣宗嗣')\n",
      "查一查叙述有关于弹坑国际航班出港的相关吗    ->    ('', '弹坑国际航班出港')\n",
      "找得到章孝慈制霉菌素数码宝的相关吗    ->    ('', '章孝慈制霉菌素数码宝')\n",
      "陈绍鹏搜索叙述关于罗比尼奥颊白鸟的相关可以吗    ->    ('', '罗比尼奥颊白鸟')\n",
      "服用量冲锋舟提示符的相关行不    ->    ('', '冲锋舟提示符')\n",
      "氛翳严家饿隶相关可以吗    ->    ('', '氛翳严家饿隶')\n",
      "味道欢乐火锅死面的相关好不    ->    ('', '味道欢乐火锅死面')\n",
      "重建局!高温假美国哥伦比亚广播公司剑靶相关好吗    ->    ('', '高温假美国哥伦比亚广播公司剑靶')\n",
      "揉面搜索介绍闪来闪去仗持相关的材料行不    ->    ('材料', '闪来闪去仗持')\n",
      "工部局无畏于盘秤建行双阳支行的相关视频可否    ->    ('视频', '无畏于盘秤建行双阳支行')\n",
      "段程序邱家屯德林堡相关的电影行吗    ->    ('电影', '段程序邱家屯德林堡')\n",
      "蝉腹龟肠花乡党校阻隔的相关    ->    ('', '蝉腹龟肠花乡党校阻隔')\n",
      "基本建设有历山川精索苦口逆耳相关讲座    ->    ('讲座', '历山川精索苦口逆耳')\n",
      "!查询拳心相关文章    ->    ('文章', '拳心')\n"
     ]
    }
   ],
   "source": [
    "for s,t in islice(generate_dataset(),0,1000):\n",
    "    text = ''.join(s)\n",
    "    if '相关' in text:\n",
    "        print(text, '   ->   ', keyword_of(s,t))"
   ]
  },
  {
   "cell_type": "code",
   "execution_count": null,
   "metadata": {},
   "outputs": [],
   "source": []
  },
  {
   "cell_type": "code",
   "execution_count": null,
   "metadata": {},
   "outputs": [],
   "source": []
  }
 ],
 "metadata": {
  "kernelspec": {
   "display_name": "Python 3",
   "language": "python",
   "name": "python3"
  },
  "language_info": {
   "codemirror_mode": {
    "name": "ipython",
    "version": 3
   },
   "file_extension": ".py",
   "mimetype": "text/x-python",
   "name": "python",
   "nbconvert_exporter": "python",
   "pygments_lexer": "ipython3",
   "version": "3.6.2"
  },
  "toc": {
   "nav_menu": {},
   "number_sections": true,
   "sideBar": true,
   "skip_h1_title": false,
   "title_cell": "Table of Contents",
   "title_sidebar": "Contents",
   "toc_cell": false,
   "toc_position": {},
   "toc_section_display": true,
   "toc_window_display": false
  }
 },
 "nbformat": 4,
 "nbformat_minor": 2
}
