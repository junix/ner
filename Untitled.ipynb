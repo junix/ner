{
 "cells": [
  {
   "cell_type": "code",
   "execution_count": 1,
   "metadata": {},
   "outputs": [],
   "source": [
    "from dataset.gen_dataset import *\n",
    "from itertools import islice\n",
    "from jieba import cut"
   ]
  },
  {
   "cell_type": "code",
   "execution_count": 2,
   "metadata": {},
   "outputs": [
    {
     "name": "stderr",
     "output_type": "stream",
     "text": [
      "Building prefix dict from the default dictionary ...\n",
      "Loading model from cache /var/folders/5p/zkjx21td4gg2tg04bhrxf_x00000gn/T/jieba.cache\n",
      "Loading model cost 0.881 seconds.\n",
      "Prefix dict has been built succesfully.\n"
     ]
    },
    {
     "name": "stdout",
     "output_type": "stream",
     "text": [
      "想看一下讲述塞西奥内容好不    ->    塞西奥\n",
      "想看塞尔维亚民主党事迹材料安徽爱家食品有限公司的类怎么样    ->    塞尔维亚民主党事迹材料安徽爱家食品有限公司\n",
      "想看拐来上屯镇资料    ->    拐来上屯镇\n",
      "同期运移套改？小乐，我想看有关燎炬望江南路芦圹讲座怎么样    ->    燎炬望江南路芦圹\n",
      "遮天盖日颜娜想看有关于黑龙江省公安厅晶体蛋白知识吗    ->    黑龙江省公安厅晶体蛋白\n",
      "我想看待月西厢锣圩镇课程    ->    待月西厢锣圩镇\n",
      "我想看一下兔王鼓颊的知识    ->    兔王鼓颊\n",
      "想看中共厦门市委组织部干部监督室行不    ->    中共厦门市委组织部干部监督室\n",
      "我想看一下章安史怎么样    ->    章安史\n",
      ",我想看闲工石家庄市公安交通管理局饿虎之蹊的电影可否    ->    闲工石家庄市公安交通管理局饿虎之蹊\n",
      "我想看一下澳大利亚联邦政府克劳特商品?    ->    澳大利亚联邦政府克劳特\n",
      "常频白鹤街道想看兵团农一师八团商品好不    ->    兵团农一师八团\n",
      "侯王庙我想看胸中垒块书籍怎么样    ->    胸中垒块\n",
      ",想看加依乡西泥路金寨县住建局    ->    加依乡西泥路金寨县住建局\n",
      "想看讲述牛卫龙南街派出所乌市城市综合交通项目研究中心怎么样    ->    牛卫龙南街派出所乌市城市综合交通项目研究中心\n",
      "今天公司我想看景慕廖根特琼山公安分局刑警队?    ->    景慕廖根特琼山公安分局刑警队\n",
      "想看课程套上来讲话行不    ->    套上来\n",
      "前埭靠山集我想看有关哈林    ->    哈林\n",
      "我想看科斯雷李玚举中距离怎么样    ->    科斯雷李玚举中距离\n",
      "我想看订单数行不    ->    订单数\n",
      "想看一下关于马太沟镇杰富瑞集团?    ->    马太沟镇杰富瑞集团\n",
      "想看囫囵半片讲座    ->    囫囵半片\n"
     ]
    }
   ],
   "source": [
    "for s,t in islice(generate_dataset(),0,10000):\n",
    "    text = ''.join(s)\n",
    "    if '想看' in text:\n",
    "        print(text, '   ->   ', keyword_of(s,t))"
   ]
  },
  {
   "cell_type": "code",
   "execution_count": null,
   "metadata": {},
   "outputs": [],
   "source": []
  }
 ],
 "metadata": {
  "kernelspec": {
   "display_name": "Python 3",
   "language": "python",
   "name": "python3"
  },
  "language_info": {
   "codemirror_mode": {
    "name": "ipython",
    "version": 3
   },
   "file_extension": ".py",
   "mimetype": "text/x-python",
   "name": "python",
   "nbconvert_exporter": "python",
   "pygments_lexer": "ipython3",
   "version": "3.6.2"
  },
  "toc": {
   "nav_menu": {},
   "number_sections": true,
   "sideBar": true,
   "skip_h1_title": false,
   "title_cell": "Table of Contents",
   "title_sidebar": "Contents",
   "toc_cell": false,
   "toc_position": {},
   "toc_section_display": true,
   "toc_window_display": false
  }
 },
 "nbformat": 4,
 "nbformat_minor": 2
}
