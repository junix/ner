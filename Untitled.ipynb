{
 "cells": [
  {
   "cell_type": "code",
   "execution_count": 1,
   "metadata": {},
   "outputs": [
    {
     "name": "stderr",
     "output_type": "stream",
     "text": [
      "Building prefix dict from the default dictionary ...\n",
      "Loading model from cache /var/folders/5p/zkjx21td4gg2tg04bhrxf_x00000gn/T/jieba.cache\n",
      "Loading model cost 0.936 seconds.\n",
      "Prefix dict has been built succesfully.\n"
     ]
    }
   ],
   "source": [
    "from dataset.gen_dataset import *\n",
    "from itertools import islice\n",
    "from jieba import cut"
   ]
  },
  {
   "cell_type": "code",
   "execution_count": 2,
   "metadata": {},
   "outputs": [
    {
     "ename": "NameError",
     "evalue": "name 'hellos' is not defined",
     "output_type": "error",
     "traceback": [
      "Traceback \u001b[0;36m(most recent call last)\u001b[0m:\n",
      "  File \u001b[1;32m\"<ipython-input-2-a56fe18e9392>\"\u001b[0m, line \u001b[1;32m1\u001b[0m, in \u001b[1;35m<module>\u001b[0m\n    for s,t in islice(generate_dataset(),0,10000):\n",
      "  File \u001b[1;32m\"/opt/mos/bigdata/trunk/search_entity/dataset/gen_dataset.py\"\u001b[0m, line \u001b[1;32m295\u001b[0m, in \u001b[1;35mgenerate_dataset\u001b[0m\n    for sentence in generate_sentence():\n",
      "  File \u001b[1;32m\"/opt/mos/bigdata/trunk/search_entity/dataset/gen_dataset.py\"\u001b[0m, line \u001b[1;32m265\u001b[0m, in \u001b[1;35mgenerate_sentence\u001b[0m\n    h = make_hello()\n",
      "\u001b[0;36m  File \u001b[0;32m\"/opt/mos/bigdata/trunk/search_entity/dataset/gen_dataset.py\"\u001b[0;36m, line \u001b[0;32m255\u001b[0;36m, in \u001b[0;35mmake_hello\u001b[0;36m\u001b[0m\n\u001b[0;31m    h = random.choice(hellos)\u001b[0m\n",
      "\u001b[0;31mNameError\u001b[0m\u001b[0;31m:\u001b[0m name 'hellos' is not defined\n"
     ]
    }
   ],
   "source": [
    "for s,t in islice(generate_dataset(),0,10000):\n",
    "    text = ''.join(s)\n",
    "    if '想看' in text:\n",
    "        print(text, '   ->   ', keyword_of(s,t))"
   ]
  }
 ],
 "metadata": {
  "kernelspec": {
   "display_name": "Python 3",
   "language": "python",
   "name": "python3"
  },
  "language_info": {
   "codemirror_mode": {
    "name": "ipython",
    "version": 3
   },
   "file_extension": ".py",
   "mimetype": "text/x-python",
   "name": "python",
   "nbconvert_exporter": "python",
   "pygments_lexer": "ipython3",
   "version": "3.6.2"
  },
  "toc": {
   "nav_menu": {},
   "number_sections": true,
   "sideBar": true,
   "skip_h1_title": false,
   "title_cell": "Table of Contents",
   "title_sidebar": "Contents",
   "toc_cell": false,
   "toc_position": {},
   "toc_section_display": true,
   "toc_window_display": false
  }
 },
 "nbformat": 4,
 "nbformat_minor": 2
}
